{
 "cells": [
  {
   "cell_type": "markdown",
   "id": "b3e003db-4403-47e6-9785-f3197ca4b2aa",
   "metadata": {},
   "source": [
    "Data Collection and Preparation"
   ]
  },
  {
   "cell_type": "code",
   "execution_count": 3,
   "id": "76887493-e32b-49be-bae8-25904ab94baf",
   "metadata": {
    "ExecuteTime": {
     "end_time": "2024-12-15T22:17:07.174749Z",
     "start_time": "2024-12-15T22:17:00.782714Z"
    }
   },
   "outputs": [],
   "source": [
    "# Import libraries\n",
    "import pandas as pd\n",
    "import numpy as np\n",
    "import matplotlib.pyplot as plt\n",
    "import seaborn as sns\n",
    "import plotly.express as px\n",
    "from sklearn.preprocessing import StandardScaler\n",
    "from sklearn.cluster import KMeans"
   ]
  },
  {
   "cell_type": "code",
   "execution_count": 4,
   "id": "367cb0b4-18f7-49ec-9b84-c8c682567885",
   "metadata": {
    "ExecuteTime": {
     "end_time": "2024-12-15T22:17:09.653828Z",
     "start_time": "2024-12-15T22:17:07.237305Z"
    }
   },
   "outputs": [
    {
     "ename": "FileNotFoundError",
     "evalue": "[Errno 2] No such file or directory: 'Mall_Customers.csv'",
     "output_type": "error",
     "traceback": [
      "\u001b[1;31m---------------------------------------------------------------------------\u001b[0m",
      "\u001b[1;31mFileNotFoundError\u001b[0m                         Traceback (most recent call last)",
      "Cell \u001b[1;32mIn[4], line 2\u001b[0m\n\u001b[0;32m      1\u001b[0m \u001b[38;5;66;03m# Load the dataset\u001b[39;00m\n\u001b[1;32m----> 2\u001b[0m CustomerDF \u001b[38;5;241m=\u001b[39m pd\u001b[38;5;241m.\u001b[39mread_csv(\u001b[38;5;124m'\u001b[39m\u001b[38;5;124mMall_Customers.csv\u001b[39m\u001b[38;5;124m'\u001b[39m)\n",
      "File \u001b[1;32m~\\anaconda3\\Lib\\site-packages\\pandas\\io\\parsers\\readers.py:1026\u001b[0m, in \u001b[0;36mread_csv\u001b[1;34m(filepath_or_buffer, sep, delimiter, header, names, index_col, usecols, dtype, engine, converters, true_values, false_values, skipinitialspace, skiprows, skipfooter, nrows, na_values, keep_default_na, na_filter, verbose, skip_blank_lines, parse_dates, infer_datetime_format, keep_date_col, date_parser, date_format, dayfirst, cache_dates, iterator, chunksize, compression, thousands, decimal, lineterminator, quotechar, quoting, doublequote, escapechar, comment, encoding, encoding_errors, dialect, on_bad_lines, delim_whitespace, low_memory, memory_map, float_precision, storage_options, dtype_backend)\u001b[0m\n\u001b[0;32m   1013\u001b[0m kwds_defaults \u001b[38;5;241m=\u001b[39m _refine_defaults_read(\n\u001b[0;32m   1014\u001b[0m     dialect,\n\u001b[0;32m   1015\u001b[0m     delimiter,\n\u001b[1;32m   (...)\u001b[0m\n\u001b[0;32m   1022\u001b[0m     dtype_backend\u001b[38;5;241m=\u001b[39mdtype_backend,\n\u001b[0;32m   1023\u001b[0m )\n\u001b[0;32m   1024\u001b[0m kwds\u001b[38;5;241m.\u001b[39mupdate(kwds_defaults)\n\u001b[1;32m-> 1026\u001b[0m \u001b[38;5;28;01mreturn\u001b[39;00m _read(filepath_or_buffer, kwds)\n",
      "File \u001b[1;32m~\\anaconda3\\Lib\\site-packages\\pandas\\io\\parsers\\readers.py:620\u001b[0m, in \u001b[0;36m_read\u001b[1;34m(filepath_or_buffer, kwds)\u001b[0m\n\u001b[0;32m    617\u001b[0m _validate_names(kwds\u001b[38;5;241m.\u001b[39mget(\u001b[38;5;124m\"\u001b[39m\u001b[38;5;124mnames\u001b[39m\u001b[38;5;124m\"\u001b[39m, \u001b[38;5;28;01mNone\u001b[39;00m))\n\u001b[0;32m    619\u001b[0m \u001b[38;5;66;03m# Create the parser.\u001b[39;00m\n\u001b[1;32m--> 620\u001b[0m parser \u001b[38;5;241m=\u001b[39m TextFileReader(filepath_or_buffer, \u001b[38;5;241m*\u001b[39m\u001b[38;5;241m*\u001b[39mkwds)\n\u001b[0;32m    622\u001b[0m \u001b[38;5;28;01mif\u001b[39;00m chunksize \u001b[38;5;129;01mor\u001b[39;00m iterator:\n\u001b[0;32m    623\u001b[0m     \u001b[38;5;28;01mreturn\u001b[39;00m parser\n",
      "File \u001b[1;32m~\\anaconda3\\Lib\\site-packages\\pandas\\io\\parsers\\readers.py:1620\u001b[0m, in \u001b[0;36mTextFileReader.__init__\u001b[1;34m(self, f, engine, **kwds)\u001b[0m\n\u001b[0;32m   1617\u001b[0m     \u001b[38;5;28mself\u001b[39m\u001b[38;5;241m.\u001b[39moptions[\u001b[38;5;124m\"\u001b[39m\u001b[38;5;124mhas_index_names\u001b[39m\u001b[38;5;124m\"\u001b[39m] \u001b[38;5;241m=\u001b[39m kwds[\u001b[38;5;124m\"\u001b[39m\u001b[38;5;124mhas_index_names\u001b[39m\u001b[38;5;124m\"\u001b[39m]\n\u001b[0;32m   1619\u001b[0m \u001b[38;5;28mself\u001b[39m\u001b[38;5;241m.\u001b[39mhandles: IOHandles \u001b[38;5;241m|\u001b[39m \u001b[38;5;28;01mNone\u001b[39;00m \u001b[38;5;241m=\u001b[39m \u001b[38;5;28;01mNone\u001b[39;00m\n\u001b[1;32m-> 1620\u001b[0m \u001b[38;5;28mself\u001b[39m\u001b[38;5;241m.\u001b[39m_engine \u001b[38;5;241m=\u001b[39m \u001b[38;5;28mself\u001b[39m\u001b[38;5;241m.\u001b[39m_make_engine(f, \u001b[38;5;28mself\u001b[39m\u001b[38;5;241m.\u001b[39mengine)\n",
      "File \u001b[1;32m~\\anaconda3\\Lib\\site-packages\\pandas\\io\\parsers\\readers.py:1880\u001b[0m, in \u001b[0;36mTextFileReader._make_engine\u001b[1;34m(self, f, engine)\u001b[0m\n\u001b[0;32m   1878\u001b[0m     \u001b[38;5;28;01mif\u001b[39;00m \u001b[38;5;124m\"\u001b[39m\u001b[38;5;124mb\u001b[39m\u001b[38;5;124m\"\u001b[39m \u001b[38;5;129;01mnot\u001b[39;00m \u001b[38;5;129;01min\u001b[39;00m mode:\n\u001b[0;32m   1879\u001b[0m         mode \u001b[38;5;241m+\u001b[39m\u001b[38;5;241m=\u001b[39m \u001b[38;5;124m\"\u001b[39m\u001b[38;5;124mb\u001b[39m\u001b[38;5;124m\"\u001b[39m\n\u001b[1;32m-> 1880\u001b[0m \u001b[38;5;28mself\u001b[39m\u001b[38;5;241m.\u001b[39mhandles \u001b[38;5;241m=\u001b[39m get_handle(\n\u001b[0;32m   1881\u001b[0m     f,\n\u001b[0;32m   1882\u001b[0m     mode,\n\u001b[0;32m   1883\u001b[0m     encoding\u001b[38;5;241m=\u001b[39m\u001b[38;5;28mself\u001b[39m\u001b[38;5;241m.\u001b[39moptions\u001b[38;5;241m.\u001b[39mget(\u001b[38;5;124m\"\u001b[39m\u001b[38;5;124mencoding\u001b[39m\u001b[38;5;124m\"\u001b[39m, \u001b[38;5;28;01mNone\u001b[39;00m),\n\u001b[0;32m   1884\u001b[0m     compression\u001b[38;5;241m=\u001b[39m\u001b[38;5;28mself\u001b[39m\u001b[38;5;241m.\u001b[39moptions\u001b[38;5;241m.\u001b[39mget(\u001b[38;5;124m\"\u001b[39m\u001b[38;5;124mcompression\u001b[39m\u001b[38;5;124m\"\u001b[39m, \u001b[38;5;28;01mNone\u001b[39;00m),\n\u001b[0;32m   1885\u001b[0m     memory_map\u001b[38;5;241m=\u001b[39m\u001b[38;5;28mself\u001b[39m\u001b[38;5;241m.\u001b[39moptions\u001b[38;5;241m.\u001b[39mget(\u001b[38;5;124m\"\u001b[39m\u001b[38;5;124mmemory_map\u001b[39m\u001b[38;5;124m\"\u001b[39m, \u001b[38;5;28;01mFalse\u001b[39;00m),\n\u001b[0;32m   1886\u001b[0m     is_text\u001b[38;5;241m=\u001b[39mis_text,\n\u001b[0;32m   1887\u001b[0m     errors\u001b[38;5;241m=\u001b[39m\u001b[38;5;28mself\u001b[39m\u001b[38;5;241m.\u001b[39moptions\u001b[38;5;241m.\u001b[39mget(\u001b[38;5;124m\"\u001b[39m\u001b[38;5;124mencoding_errors\u001b[39m\u001b[38;5;124m\"\u001b[39m, \u001b[38;5;124m\"\u001b[39m\u001b[38;5;124mstrict\u001b[39m\u001b[38;5;124m\"\u001b[39m),\n\u001b[0;32m   1888\u001b[0m     storage_options\u001b[38;5;241m=\u001b[39m\u001b[38;5;28mself\u001b[39m\u001b[38;5;241m.\u001b[39moptions\u001b[38;5;241m.\u001b[39mget(\u001b[38;5;124m\"\u001b[39m\u001b[38;5;124mstorage_options\u001b[39m\u001b[38;5;124m\"\u001b[39m, \u001b[38;5;28;01mNone\u001b[39;00m),\n\u001b[0;32m   1889\u001b[0m )\n\u001b[0;32m   1890\u001b[0m \u001b[38;5;28;01massert\u001b[39;00m \u001b[38;5;28mself\u001b[39m\u001b[38;5;241m.\u001b[39mhandles \u001b[38;5;129;01mis\u001b[39;00m \u001b[38;5;129;01mnot\u001b[39;00m \u001b[38;5;28;01mNone\u001b[39;00m\n\u001b[0;32m   1891\u001b[0m f \u001b[38;5;241m=\u001b[39m \u001b[38;5;28mself\u001b[39m\u001b[38;5;241m.\u001b[39mhandles\u001b[38;5;241m.\u001b[39mhandle\n",
      "File \u001b[1;32m~\\anaconda3\\Lib\\site-packages\\pandas\\io\\common.py:873\u001b[0m, in \u001b[0;36mget_handle\u001b[1;34m(path_or_buf, mode, encoding, compression, memory_map, is_text, errors, storage_options)\u001b[0m\n\u001b[0;32m    868\u001b[0m \u001b[38;5;28;01melif\u001b[39;00m \u001b[38;5;28misinstance\u001b[39m(handle, \u001b[38;5;28mstr\u001b[39m):\n\u001b[0;32m    869\u001b[0m     \u001b[38;5;66;03m# Check whether the filename is to be opened in binary mode.\u001b[39;00m\n\u001b[0;32m    870\u001b[0m     \u001b[38;5;66;03m# Binary mode does not support 'encoding' and 'newline'.\u001b[39;00m\n\u001b[0;32m    871\u001b[0m     \u001b[38;5;28;01mif\u001b[39;00m ioargs\u001b[38;5;241m.\u001b[39mencoding \u001b[38;5;129;01mand\u001b[39;00m \u001b[38;5;124m\"\u001b[39m\u001b[38;5;124mb\u001b[39m\u001b[38;5;124m\"\u001b[39m \u001b[38;5;129;01mnot\u001b[39;00m \u001b[38;5;129;01min\u001b[39;00m ioargs\u001b[38;5;241m.\u001b[39mmode:\n\u001b[0;32m    872\u001b[0m         \u001b[38;5;66;03m# Encoding\u001b[39;00m\n\u001b[1;32m--> 873\u001b[0m         handle \u001b[38;5;241m=\u001b[39m \u001b[38;5;28mopen\u001b[39m(\n\u001b[0;32m    874\u001b[0m             handle,\n\u001b[0;32m    875\u001b[0m             ioargs\u001b[38;5;241m.\u001b[39mmode,\n\u001b[0;32m    876\u001b[0m             encoding\u001b[38;5;241m=\u001b[39mioargs\u001b[38;5;241m.\u001b[39mencoding,\n\u001b[0;32m    877\u001b[0m             errors\u001b[38;5;241m=\u001b[39merrors,\n\u001b[0;32m    878\u001b[0m             newline\u001b[38;5;241m=\u001b[39m\u001b[38;5;124m\"\u001b[39m\u001b[38;5;124m\"\u001b[39m,\n\u001b[0;32m    879\u001b[0m         )\n\u001b[0;32m    880\u001b[0m     \u001b[38;5;28;01melse\u001b[39;00m:\n\u001b[0;32m    881\u001b[0m         \u001b[38;5;66;03m# Binary mode\u001b[39;00m\n\u001b[0;32m    882\u001b[0m         handle \u001b[38;5;241m=\u001b[39m \u001b[38;5;28mopen\u001b[39m(handle, ioargs\u001b[38;5;241m.\u001b[39mmode)\n",
      "\u001b[1;31mFileNotFoundError\u001b[0m: [Errno 2] No such file or directory: 'Mall_Customers.csv'"
     ]
    }
   ],
   "source": [
    "# Load the dataset\n",
    "CustomerDF = pd.read_csv('Mall_Customers.csv')"
   ]
  },
  {
   "cell_type": "markdown",
   "id": "fa32516b-8e7f-43d2-bdcb-10dc6eab9e02",
   "metadata": {},
   "source": [
    " Dataset Overview"
   ]
  },
  {
   "cell_type": "code",
   "execution_count": null,
   "id": "0cf7dc77-c746-433f-bc9f-b71d5522c53a",
   "metadata": {
    "ExecuteTime": {
     "end_time": "2024-12-15T22:17:09.778825800Z",
     "start_time": "2024-12-15T15:24:31.570684Z"
    }
   },
   "outputs": [],
   "source": [
    "# View the first few rows\n",
    "print(CustomerDF.head())"
   ]
  },
  {
   "cell_type": "code",
   "execution_count": null,
   "id": "2b691725-aeba-428e-bc0c-65482bc7ffaa",
   "metadata": {
    "ExecuteTime": {
     "end_time": "2024-12-15T22:17:10.502767600Z",
     "start_time": "2024-12-15T15:24:31.656334Z"
    }
   },
   "outputs": [],
   "source": [
    "# Check dataset info\n",
    "print(CustomerDF.info())"
   ]
  },
  {
   "cell_type": "code",
   "execution_count": null,
   "id": "0fbcdbef-3ebf-4743-8cac-68a57c6bff02",
   "metadata": {
    "ExecuteTime": {
     "end_time": "2024-12-15T22:17:10.517316500Z",
     "start_time": "2024-12-15T15:24:32.198777Z"
    }
   },
   "outputs": [],
   "source": [
    "# Check for missing values\n",
    "print(CustomerDF.isnull().sum())"
   ]
  },
  {
   "cell_type": "markdown",
   "id": "fc0a5908-4f75-4683-b680-f818b9726871",
   "metadata": {},
   "source": [
    " Exploratory Data Analysis (EDA)"
   ]
  },
  {
   "cell_type": "code",
   "execution_count": null,
   "id": "93e3ccdf-84e5-41f9-ab82-fa4d4921d811",
   "metadata": {
    "ExecuteTime": {
     "end_time": "2024-12-15T22:17:10.564246300Z",
     "start_time": "2024-12-15T15:24:32.321545Z"
    }
   },
   "outputs": [],
   "source": [
    "#Summary Statistics\n",
    "print(CustomerDF.describe())"
   ]
  },
  {
   "cell_type": "markdown",
   "id": "e1a99c8c-79ef-4706-9622-19d9fc6d93e0",
   "metadata": {
    "ExecuteTime": {
     "end_time": "2024-12-15T15:24:32.621705Z",
     "start_time": "2024-12-15T15:24:32.526339Z"
    }
   },
   "source": [
    "Visualize Data Distribution"
   ]
  },
  {
   "cell_type": "code",
   "execution_count": null,
   "id": "1fa1bb5e-3b96-42d6-9627-c979f8c296e3",
   "metadata": {
    "ExecuteTime": {
     "end_time": "2024-12-15T22:17:10.579814400Z",
     "start_time": "2024-12-15T15:30:13.741903Z"
    }
   },
   "outputs": [],
   "source": [
    "# Plot gender distribution\n",
    "# Define a clear and cohesive color palette\n",
    "color_palette = {'Male': '#3498db',  # Blue for Male\n",
    "                 'Female': '#e74c3c'}  # Red for Female\n",
    "# Create the countplot with custom colors\n",
    "plt.figure(figsize=(6, 5))\n",
    "ax = sns.countplot(x='Gender', data=CustomerDF, hue='Gender', palette=color_palette)\n",
    "\n",
    "# Add labels on top of each bar\n",
    "for p in ax.patches:\n",
    "    ax.annotate(f'{int(p.get_height())}',  # Get the height of each bar\n",
    "        (p.get_x() + p.get_width() / 2., p.get_height()),  # Position label at the center-top of each bar\n",
    "        ha='center', va='center', xytext=(0, 5), textcoords='offset points', fontsize=10, fontweight='bold')\n",
    "    \n",
    "# Add title and labels\n",
    "plt.title('Gender Distribution', fontsize=14)\n",
    "plt.xlabel('Gender', fontsize=12)\n",
    "plt.ylabel('Count', fontsize=12)\n",
    "plt.xticks(fontsize=10)\n",
    "plt.yticks(fontsize=10)\n",
    "\n",
    "# Show the plot\n",
    "plt.tight_layout()\n",
    "plt.show()"
   ]
  },
  {
   "cell_type": "raw",
   "id": "114eb41e-86f8-4803-8ed5-2d54e80d1633",
   "metadata": {},
   "source": [
    "The figure shows more female customers compared to male customers, this implicates that The business may have a larger female customer base, which could influence targeted marketing strategies."
   ]
  },
  {
   "cell_type": "code",
   "execution_count": null,
   "id": "c98eb911-8d8a-4096-8406-d49a80c9659a",
   "metadata": {
    "ExecuteTime": {
     "end_time": "2024-12-15T22:17:10.579814400Z",
     "start_time": "2024-12-15T15:24:34.162917Z"
    },
    "scrolled": true
   },
   "outputs": [],
   "source": [
    "# Plot income and spending score distribution\n",
    "# Set a consistent style for all plots\n",
    "sns.set_style(\"whitegrid\")\n",
    "\n",
    "# Create subplots to display both histograms side by side\n",
    "fig, axes = plt.subplots(1, 2, figsize=(14, 6))\n",
    "\n",
    "# Plot the Annual Income distribution\n",
    "sns.histplot(CustomerDF['Annual Income (k$)'], kde=True, color='#2c3e50', ax=axes[0])\n",
    "axes[0].set_title('Annual Income Distribution', fontsize=14)\n",
    "axes[0].set_xlabel('Annual Income (k$)', fontsize=12)\n",
    "axes[0].set_ylabel('Frequency', fontsize=12)\n",
    "axes[0].tick_params(axis='both', labelsize=10)\n",
    "\n",
    "# Plot the Spending Score distribution\n",
    "sns.histplot(CustomerDF['Spending Score (1-100)'], kde=True, color='#27ae60', ax=axes[1])\n",
    "axes[1].set_title('Spending Score Distribution', fontsize=14)\n",
    "axes[1].set_xlabel('Spending Score (1-100)', fontsize=12)\n",
    "axes[1].set_ylabel('Frequency', fontsize=12)\n",
    "axes[1].tick_params(axis='both', labelsize=10)\n",
    "\n",
    "# Adjust layout to prevent overlap\n",
    "plt.tight_layout()\n",
    "\n",
    "# Show the plot\n",
    "plt.show()\n"
   ]
  },
  {
   "cell_type": "raw",
   "id": "b6a1aaa5-000a-4b72-9852-9fe09dab523c",
   "metadata": {},
   "source": [
    "Annual Income Distribution\n",
    "Range of Annual Income: The annual income of customers spans approximately from 15k to 140k (in thousands of dollars).\n",
    "\n",
    "Distribution Shape: The data appears to be slightly positively skewed (longer tail on the right side), suggesting that a smaller proportion of customers have higher incomes.\n",
    "\n",
    "Most Frequent Income Range: The most common annual income range lies between 50k and 90k, as shown by the tallest bars in the histogram.\n",
    "\n",
    "KDE Line: The kernel density estimate (KDE) overlay gives a smooth approximation of the income distribution, reinforcing the observation of a peak around 60k-80k and a decline toward higher income levels."
   ]
  },
  {
   "cell_type": "raw",
   "id": "f510990f-6bbd-45c6-819b-ce95802ac79f",
   "metadata": {},
   "source": [
    "Spending Score Distribution \n",
    "Range: Spending scores span the entire range from 1 to 100.\n",
    "Shape: The distribution is bimodal, suggesting two distinct groups of customers based on spending habits:\n",
    "One peak is around 20-30, Another peak is close to 70-80.\n",
    "Observations: This indicates the presence of varied customer spending patterns, which may reflect distinct clusters within the dataset."
   ]
  },
  {
   "cell_type": "markdown",
   "id": "a122c03a-3ead-4ada-8f3d-0bd65012f523",
   "metadata": {},
   "source": [
    "Clustering Preparation"
   ]
  },
  {
   "cell_type": "code",
   "execution_count": null,
   "id": "63a0eb66-71f5-4d7b-8c12-7d9b01598a8d",
   "metadata": {
    "ExecuteTime": {
     "end_time": "2024-12-15T22:17:10.595457Z",
     "start_time": "2024-12-15T15:24:35.420895Z"
    }
   },
   "outputs": [],
   "source": [
    "# Select relevant features\n",
    "X = CustomerDF[['Annual Income (k$)', 'Spending Score (1-100)']]\n",
    "\n",
    "# Standardize the data\n",
    "scaler = StandardScaler()\n",
    "X_scaled = scaler.fit_transform(X)\n"
   ]
  },
  {
   "cell_type": "markdown",
   "id": "b720904a-1c67-469f-b15c-0cf7c68ae21d",
   "metadata": {},
   "source": [
    "K-Means Clustering"
   ]
  },
  {
   "cell_type": "code",
   "execution_count": null,
   "id": "248b7494-d7d4-44c3-b855-9a4589fb2ddb",
   "metadata": {
    "ExecuteTime": {
     "end_time": "2024-12-15T22:17:10.595457Z",
     "start_time": "2024-12-15T15:24:35.536517Z"
    }
   },
   "outputs": [],
   "source": [
    "# Calculate distortions for different cluster counts\n",
    "distortions = []\n",
    "for i in range(1, 11):\n",
    "    kmeans = KMeans(n_clusters=i, random_state=42)\n",
    "    kmeans.fit(X_scaled)\n",
    "    distortions.append(kmeans.inertia_)\n",
    "\n",
    "# Plot the elbow graph\n",
    "plt.plot(range(1, 11), distortions, marker='o')\n",
    "plt.title('Elbow Method')\n",
    "plt.xlabel('Number of Clusters')\n",
    "plt.ylabel('Distortion')\n",
    "plt.show()\n"
   ]
  },
  {
   "cell_type": "code",
   "execution_count": null,
   "id": "359a4e7c-7981-434c-a7f5-01a4254334ed",
   "metadata": {
    "ExecuteTime": {
     "end_time": "2024-12-15T22:17:10.595457Z",
     "start_time": "2024-12-15T15:24:39.484695Z"
    }
   },
   "outputs": [],
   "source": [
    "# Fit K-Means with optimal clusters (5) as the Elbow Point shown in the figure\n",
    "kmeans = KMeans(n_clusters=5, random_state=42)\n",
    "CustomerDF['Cluster'] = kmeans.fit_predict(X_scaled)\n",
    "\n",
    "# Check cluster assignments\n",
    "print(CustomerDF['Cluster'].value_counts())\n"
   ]
  },
  {
   "cell_type": "raw",
   "id": "9dbdb3ca-b65b-4797-b684-c7a04be3bfc9",
   "metadata": {},
   "source": [
    "Observations:\n",
    "Cluster 0:\n",
    "This is the largest group and likely represents the most common customer profile, which reflect the general trends\n",
    "Further analysis is needed to understand their key characteristics.\n",
    "\n",
    "Clusters 2 and 4:\n",
    "These are the smallest clusters, suggesting they might represent niche customer segments with unique behavior or traits.\n",
    "\n",
    "Clusters 1 and 3:\n",
    "These medium-sized clusters may represent moderately common customer types."
   ]
  },
  {
   "cell_type": "markdown",
   "id": "8f209a7b-19ff-4bde-addb-38f35defa01d",
   "metadata": {},
   "source": [
    "Clusters' characteristics Analysis"
   ]
  },
  {
   "cell_type": "markdown",
   "id": "5440d1b2-36fb-46d8-a59d-95ac8a959c89",
   "metadata": {},
   "source": [
    "1) Generate summary statistics for each cluster"
   ]
  },
  {
   "cell_type": "code",
   "execution_count": null,
   "id": "37d2d95a-39d4-4a58-a97b-9160ee2b3cd8",
   "metadata": {
    "ExecuteTime": {
     "end_time": "2024-12-15T22:17:10.595457Z",
     "start_time": "2024-12-15T15:24:39.656910Z"
    }
   },
   "outputs": [],
   "source": [
    "\n",
    "# Select only numeric columns\n",
    "numeric_columns = CustomerDF.select_dtypes(include=['int64'])\n",
    "numeric_columns['Cluster'] = CustomerDF['Cluster']\n",
    "\n",
    "# Add statistics like mean, median, min, and max\n",
    "cluster_mean = numeric_columns.groupby('Cluster').mean()\n",
    "print(f\"cluster_mean:\\n {cluster_mean}\\n\")\n",
    "\n",
    "cluster_median = numeric_columns.groupby('Cluster').median()\n",
    "print(f\"cluster_median:\\n {cluster_median}\\n\")\n",
    "\n",
    "cluster_min = numeric_columns.groupby('Cluster').min()\n",
    "print(f\"cluster_min:\\n {cluster_min}\\n\")\n",
    "\n",
    "cluster_max = numeric_columns.groupby('Cluster').max()\n",
    "print(f\"cluster_max:\\n {cluster_max}\\n\")\n",
    "\n",
    "# Gender statistics for each cluster\n",
    "gender_proportion = CustomerDF.groupby('Cluster')['Gender'].value_counts(normalize=True)\n",
    "print(f\"gender_proportion:\\n {gender_proportion}\\n\")\n"
   ]
  },
  {
   "cell_type": "raw",
   "id": "dbf0e592-3f6a-4c34-baef-e64a779e8da1",
   "metadata": {},
   "source": [
    "Observations:\n",
    "Cluster 1 stands out with high income and high spending, indicating affluent consumers.\n",
    "Cluster 3 has high income but low spending, possibly representing customers who are more conservative or budget-conscious.\n",
    "Cluster 2 includes young, low-income individuals who spend significantly, possibly reflecting impulsive buying behavior.\n",
    "Cluster 0 has a mix of moderate-income customers with average spending.\n",
    "Cluster 4 consists of older individuals with lower incomes and spending, possibly representing a more frugal or older customer base.\n",
    "\n",
    "Overall, the gender proportions vary across the clusters, with some clusters having a stronger representation of females (Clusters 0, 2, 4) and others having a closer or slightly male-dominant distribution (Cluster 1 and 3). "
   ]
  },
  {
   "cell_type": "markdown",
   "id": "97207c21-4dd9-4c68-8d18-02bed21e082c",
   "metadata": {},
   "source": [
    "2) visualizations for clusters' characteristics"
   ]
  },
  {
   "cell_type": "code",
   "execution_count": null,
   "id": "d2f474a1-f0c7-41dd-8beb-5af995248ca8",
   "metadata": {},
   "outputs": [],
   "source": [
    "# Scatter Plot for Clusters\n",
    "fig = px.scatter(CustomerDF,\n",
    "                 x='Annual Income (k$)',\n",
    "                 y='Spending Score (1-100)',\n",
    "                 color='Cluster',\n",
    "                 hover_data=['Age', 'Gender'],\n",
    "                 title='Customer Segmentation: Annual Income vs Spending Score',\n",
    "                 labels={'Annual Income (k$)': 'Annual Income (k$)', 'Spending Score (1-100)': 'Spending Score'})\n",
    "fig.update_traces(marker=dict(size=10, opacity=0.8))\n",
    "fig.show()\n"
   ]
  },
  {
   "cell_type": "raw",
   "id": "676a721b-efe6-4176-a483-9bbb1df92627",
   "metadata": {},
   "source": [
    "Insights:\n",
    "Two extremes of behavior:\n",
    "\n",
    "Cluster 2 (pink): Low income but spending a lot—likely impulsive buyers.\n",
    "Cluster 1 (purple): High income and high spending—ideal customers for premium products.\n",
    "\n",
    "Cautious customers:\n",
    "Cluster 4 (yellow): Low-income customers spending cautiously.\n",
    "Cluster 3 (orange): high-income customers with low spending—likely saving or selective about purchases.\n",
    "\n",
    "Balanced group:\n",
    "Cluster 0 (dark blue): Moderate income and moderate spending."
   ]
  },
  {
   "cell_type": "code",
   "execution_count": null,
   "id": "99d051df9383ab",
   "metadata": {
    "ExecuteTime": {
     "end_time": "2024-12-15T22:17:10.595457Z",
     "start_time": "2024-12-15T15:24:41.289113Z"
    }
   },
   "outputs": [],
   "source": [
    "# Gender Distribution\n",
    "# Group data by 'Cluster' and 'Gender' to calculate proportions\n",
    "gender_proportions = CustomerDF.groupby(['Cluster', 'Gender']).size().unstack()\n",
    "gender_proportions = gender_proportions.div(gender_proportions.sum(axis=1), axis=0)\n",
    "\n",
    "# Define a clear and cohesive color palette\n",
    "color_palette = {'Male': '#3498db',  # Blue for Male\n",
    "                 'Female': '#e74c3c'}  # Red for Female\n",
    "\n",
    "# Create pie charts for each cluster\n",
    "fig, axes = plt.subplots(1, len(gender_proportions), figsize=(15, 5))\n",
    "\n",
    "for i, cluster in enumerate(gender_proportions.index):\n",
    "    ax = axes[i]\n",
    "    sizes = gender_proportions.loc[cluster]\n",
    "    labels = sizes.index\n",
    "    colors = [color_palette[label] for label in labels]  # Assign colors based on gender\n",
    "    ax.pie(sizes, labels=labels, autopct='%1.1f%%', startangle=90, colors=colors)\n",
    "    ax.set_title(f'Cluster {cluster}')\n",
    "\n",
    "# Adjust layout for better appearance\n",
    "plt.tight_layout()\n",
    "plt.show()\n"
   ]
  },
  {
   "cell_type": "raw",
   "id": "8309d1f9-c91f-47fe-b9d0-133999128520",
   "metadata": {},
   "source": [
    "Insights:\n",
    "Gender Diversity: All clusters show some degree of gender diversity, though certain clusters are skewed toward one gender.\n",
    "\n",
    "Dominant Gender Patterns:\n",
    "Clusters 0, 2, and 4 are female-dominated, potentially reflecting groups where females are more actively engaged in the observed activities or spending patterns.\n",
    "Clusters 1 and 3 are male-dominated, suggesting that males may represent a significant portion of these behavioral or spending segments.\n",
    "\n",
    "Possible Interpretations:\n",
    "Clusters with more females (0, 2, 4):\n",
    "These clusters might reflect spending or behavioral patterns typically associated with females, such as certain preferences for services, products, or age/life stages where females are more represented.\n",
    "\n",
    "Clusters with more males (1, 3):\n",
    "These clusters could be linked to spending or activities where males are more prominent, such as technology, certain luxury items, or distinct financial behaviors."
   ]
  },
  {
   "cell_type": "code",
   "execution_count": null,
   "id": "93ae3325-2a24-4fef-81b3-d344c9e9b840",
   "metadata": {
    "ExecuteTime": {
     "end_time": "2024-12-15T22:17:10.611062500Z",
     "start_time": "2024-12-15T15:24:40.055850Z"
    }
   },
   "outputs": [],
   "source": [
    "# Boxplot for Age\n",
    "fig = px.box(\n",
    "    CustomerDF,\n",
    "    x='Cluster',\n",
    "    y='Age',\n",
    "    color='Cluster',\n",
    "    title=\"Age Distribution by Cluster\",\n",
    "    labels={'Cluster': 'Cluster', 'Age': 'Age'},\n",
    "    color_discrete_sequence=px.colors.qualitative.Pastel  # Use a distinct palette\n",
    ")\n",
    "fig.update_traces(marker=dict(opacity=0.7))  # Adjust transparency\n",
    "fig.show()\n"
   ]
  },
  {
   "cell_type": "raw",
   "id": "e169bf4e-fc02-4c17-93eb-10f5f4496d06",
   "metadata": {},
   "source": [
    "Observations:\n",
    "Cluster 0: The wide age range and median 46 indicate a diverse group with people spanning several life stages.\n",
    "Cluster 1: With a narrower range and a median age of 32, this cluster has a younger population, likely consisting of young adults.\n",
    "Cluster 2: The youngest median age of 24 suggests a group of mostly younger individuals. The smaller spread reflects a more homogenous age group.\n",
    "Cluster 3: Similar to Cluster 0 in median age 42, but with a narrower spread, indicating less age diversity.\n",
    "Cluster 4: This cluster has a median age of 46, and the wide spread shows a mix of ages, similar to Cluster 0."
   ]
  },
  {
   "cell_type": "code",
   "execution_count": null,
   "id": "bdd84ed6-907d-4413-868b-943749caa723",
   "metadata": {
    "scrolled": true
   },
   "outputs": [],
   "source": [
    "import seaborn as sns\n",
    "import matplotlib.pyplot as plt\n",
    "\n",
    "# Set style for better aesthetics\n",
    "sns.set(style=\"whitegrid\")\n",
    "\n",
    "# Create violin plots\n",
    "fig, axes = plt.subplots(1, 2, figsize=(14, 6))\n",
    "\n",
    "# Violin plot for Spending Score\n",
    "sns.violinplot(data=CustomerDF, x='Cluster', y='Spending Score (1-100)', hue='Cluster', palette=\"muted\", ax=axes[0])\n",
    "axes[0].set_title(\"Spending Score Distribution by Cluster\")\n",
    "axes[0].set_xlabel(\"Cluster\")\n",
    "axes[0].set_ylabel(\"Spending Score (1-100)\")\n",
    "\n",
    "# Violin plot for Annual Income\n",
    "sns.violinplot(data=CustomerDF, x='Cluster', y='Annual Income (k$)', hue='Cluster', palette=\"pastel\", ax=axes[1])\n",
    "axes[1].set_title(\"Annual Income Distribution by Cluster\")\n",
    "axes[1].set_xlabel(\"Cluster\")\n",
    "axes[1].set_ylabel(\"Annual Income (k$)\")\n",
    "\n",
    "plt.tight_layout()\n",
    "plt.show()\n"
   ]
  },
  {
   "cell_type": "raw",
   "id": "3478dedb-0018-4ed6-9743-59d395795302",
   "metadata": {},
   "source": [
    "Spending Score Distribution Observations:\n",
    "Cluster 0:\n",
    "Median spending score: ~50\n",
    "The narrow spread suggests individuals in this cluster have similar spending habits. This cluster might represent people with average spending tendencies.\n",
    "\n",
    "Cluster 1:\n",
    "Median spending score: ~80\n",
    "A wider spread indicates greater variability in spending habits, with both high and moderate spenders present.\n",
    "\n",
    "Outliers: A few individuals spend significantly more than the rest, pushing the upper range.\n",
    "\n",
    "Cluster 2:\n",
    "Median spending score: ~75 (slightly lower than Cluster 1).\n",
    "Similar to Cluster 1, this cluster has a wide spread, indicating diverse spending behaviors.\n",
    "\n",
    "Outliers: Individuals with very high spending scores are present, creating a more extended range.\n",
    "\n",
    "Cluster 3:\n",
    "Median spending score: ~15\n",
    "This cluster shows the lowest median, with a narrow spread, suggesting uniformly low spending habits.\n",
    "Likely represents individuals who are frugal or constrained financially.\n",
    "\n",
    "Cluster 4:\n",
    "Median spending score: ~25\n",
    "The spread is broader than Cluster 3, indicating slightly more variation in spending habits.\n",
    "This cluster represents individuals with modest spending tendencies but with some variability.\n",
    "\n",
    "\n",
    "Additional Insights:\n",
    "\n",
    "High Spending Clusters:\n",
    "Clusters 1 and 2 represent the high spenders. The presence of outliers suggests the influence of individuals with significantly higher purchasing power or more willingness to spend on luxury or discretionary items.\n",
    "\n",
    "Low Spending Clusters:\n",
    "Clusters 3 and 4 are at the lower end of the spectrum. Cluster 3 has a more concentrated group of low-spenders, while Cluster 4 displays a slightly broader range of spending habits.\n",
    "\n",
    "Diversity in Spending:\n",
    "The widest spread is observed in Clusters 1 and 2, indicating that these groups are more diverse in spending behaviors, likely reflecting different income levels or lifestyle choices.\n",
    "\n",
    "Average Spenders:\n",
    "Cluster 0 sits in the middle, representing a balanced group with moderate and uniform spending habits.\n",
    "\n",
    "Possible Interpretations:\n",
    "Cluster 0: These individuals may represent middle-income earners or those with balanced budgets who spend moderately.\n",
    "Cluster 1: This cluster could include affluent individuals or those willing to allocate more budget to discretionary spending.\n",
    "Cluster 2: similar to Cluster 1 but slightly younger or less financially established, contributing to slightly lower spending scores.\n",
    "Cluster 3: represents financially constrained individuals or those with frugal tendencies.\n",
    "Cluster 4: may include individuals with moderate spending habits, possibly transitioning between low and moderate spending groups."
   ]
  },
  {
   "cell_type": "raw",
   "id": "ba873ff1-1a5d-4dc6-907f-c35da4542f4f",
   "metadata": {},
   "source": [
    "Annual Income distribution observations:\n",
    "Cluster 0: The lower median income (~55k) and relatively narrow spread suggest that this cluster consists of individuals with more similar income levels. It may represent people in lower-paying jobs, students, or retirees.\n",
    "\n",
    "Cluster 1: The higher median income (~80k) and the wider spread indicate that this cluster is more diverse, containing both individuals with moderate incomes as well as some with significantly higher incomes. This could represent professionals or business owners with varied financial backgrounds.\n",
    "\n",
    "Cluster 2: With a median income of about $25k and a narrow spread, this cluster likely includes individuals with low and similar income levels, possibly students, part-time workers, or retirees.\n",
    "\n",
    "Cluster 3: The higher median income (~85k) and a wide spread suggest that this group also has greater income diversity, likely including professionals and business owners with high earning potential.\n",
    "\n",
    "Cluster 4: Similar to Cluster 2, the lower median income (~25k) and narrow spread suggest that this cluster represents individuals with lower, more homogeneous income levels, possibly students, retirees, or individuals in entry-level or low-paying jobs.\n",
    "\n",
    "Additional Insights:\n",
    "Outliers: Both Clusters 1 and 3 exhibit outliers. This points to the presence of individuals with significantly higher incomes within these clusters, which could reflect a small number of high-income earners compared to the majority.\n",
    "\n",
    "Income Diversity: Clusters 1 and 3 show higher income diversity compared to the other clusters, suggesting that these groups include individuals with a wide range of earning capacities.\n",
    "\n",
    "Median Income: The highest median incomes are found in Clusters 1 and 3, indicating they may represent a more affluent demographic. In contrast, Clusters 0, 2, and 4 have lower median incomes, possibly indicating younger, less experienced, or more economically disadvantaged individuals.\n",
    "\n",
    "Possible Interpretations:\n",
    "Cluster 0: This could represent younger individuals, students, retirees, or those in lower-income jobs.\n",
    "Cluster 1,3: Likely a mix of individuals with professional or managerial positions, business owners, or others with significant earning potential.\n",
    "Cluster 2: could include individuals with entry-level jobs, lower-paying positions, students, or retirees living on fixed incomes."
   ]
  },
  {
   "cell_type": "markdown",
   "id": "d64ba261-2841-47db-9702-db1e6b528480",
   "metadata": {},
   "source": [
    "Cluster Profiling and Insights"
   ]
  },
  {
   "cell_type": "raw",
   "id": "d690b037-1da3-40ae-a5fb-ea2b800692c8",
   "metadata": {},
   "source": [
    "Cluster 0: \"Mid-Aged Balanced Spenders\"\n",
    "Age Range: Late 20s to 55, median age ~45.\n",
    "Annual Income: Median ~55k, with a narrow spread (relatively homogenous income distribution).\n",
    "Spending Score: Median ~50, suggesting moderate spending behavior.\n",
    "Gender Proportion: Higher proportion of females (~59%).\n",
    "Interpretation: Likely represents middle-aged individuals with moderate income and spending. A balanced demographic in terms of financial activity.\n",
    "\n",
    "Cluster 1: \"Affluent High Spenders\"\n",
    "Age Range: 30 to 35, median age ~35.\n",
    "Annual Income: Median ~80k, diverse income distribution with significant outliers.\n",
    "Spending Score: Median ~80, indicating high spending activity.\n",
    "Gender Proportion: Slightly more females (~54%).\n",
    "Interpretation: Likely represents younger professionals or affluent individuals with high spending potential.\n",
    "\n",
    "Cluster 2: \"Young Enthusiasts\"\n",
    "Age Range: 18 to 35, median age ~25.\n",
    "Annual Income: Median ~25k, with a narrow spread (relatively homogenous income distribution).\n",
    "Spending Score: Median ~75, suggesting a tendency to spend despite lower incomes.\n",
    "Gender Proportion: Higher proportion of females (~59%).\n",
    "Interpretation: Likely represents young individuals, possibly students or early-career professionals, who are enthusiastic about spending.\n",
    "\n",
    "Cluster 3: \"Wealthy Frugalists\"\n",
    "Age Range: Late 20s to 50s, median age ~40.\n",
    "Annual Income: Median ~85k, diverse income distribution with significant outliers.\n",
    "Spending Score: Median ~15, indicating very conservative spending behavior.\n",
    "Gender Proportion: Higher proportion of males (~54%).\n",
    "Interpretation: Likely represents affluent individuals who prioritize saving over spending.\n",
    "\n",
    "Cluster 4: Low-Income Modest Spenders\n",
    "Age Range: 19 to 67, median age ~45.\n",
    "Annual Income: Median ~25k, relatively narrow spread.\n",
    "Spending Score: Median ~25, suggesting cautious spending behavior.\n",
    "Gender Proportion: Higher proportion of females (~61%).\n",
    "Interpretation: Likely represents individuals with lower income levels who spend conservatively."
   ]
  },
  {
   "cell_type": "markdown",
   "id": "642ba0ea-1dfd-496d-a4a4-17e5e0f7d5e5",
   "metadata": {},
   "source": [
    "Cluster-Specific Recommendations\n"
   ]
  },
  {
   "cell_type": "raw",
   "id": "31016e1c-6034-4520-9b95-187200455f38",
   "metadata": {},
   "source": [
    "Cluster 0: Mid-Aged Balanced Spenders\n",
    "Strategy: Focus on maintaining engagement through value-driven offerings.\n",
    "Offer mid-tier products and services that align with their moderate spending patterns.\n",
    "Provide loyalty programs or discounts to encourage repeat purchases.\n",
    "Promote products that appeal to middle-aged customers, such as health, wellness, or family-oriented goods.\n",
    "\n",
    "Cluster 1: Affluent High Spenders\n",
    "Strategy: Maximize spending by emphasizing premium offerings.\n",
    "Introduce exclusive, high-end products and services to match their spending potential.\n",
    "Personalize marketing efforts with luxury and experiential offerings, e.g., VIP memberships or bespoke services.\n",
    "Highlight convenience and time-saving features to appeal to busy professionals.\n",
    "\n",
    "Cluster 2: Young Enthusiasts\n",
    "Strategy: Capture and sustain their enthusiasm through affordable and trendy options.\n",
    "Promote budget-friendly products and services that resonate with their lifestyle.\n",
    "Invest in digital marketing campaigns targeting social media platforms to capture their attention.\n",
    "Offer installment plans or student discounts to increase affordability.\n",
    "\n",
    "Cluster 3: Wealthy Frugalists\n",
    "Strategy: Highlight value and savings in your offerings.\n",
    "Promote products that emphasize long-term benefits or savings (e.g., energy-efficient appliances, investment tools).\n",
    "Provide data-backed justifications for product value to resonate with their conservative spending behavior.\n",
    "Introduce loyalty rewards or cashback programs to incentivize spending without compromising their frugal nature.\n",
    "\n",
    "Cluster 4: Low-Income Modest Spenders\n",
    "Strategy: Build trust and loyalty by offering affordable essentials.\n",
    "Focus on low-cost, high-value products that cater to their cautious spending habits.\n",
    "Create campaigns emphasizing affordability, quality, and necessity.\n",
    "Bundle products or offer discounts for essential goods to encourage purchases."
   ]
  },
  {
   "cell_type": "markdown",
   "id": "59295d7e-07a8-474c-bb1a-fbc91e61fdaf",
   "metadata": {},
   "source": [
    "General Recommendations\n"
   ]
  },
  {
   "cell_type": "raw",
   "id": "96928ca5-6eae-4c53-8e43-43ef23f9f16d",
   "metadata": {},
   "source": [
    "Data-Driven Marketing: Leverage insights from this analysis to design personalized marketing campaigns for each cluster.\n",
    "Cluster-Specific Communication: Use targeted messaging that aligns with each group’s preferences, demographics, and spending behavior.\n",
    "Monitor Trends: Continuously track the clusters’ behavior over time to adjust strategies based on evolving preferences.\n",
    "Product Recommendations: Use this segmentation to recommend relevant products/services on e-commerce platforms to boost conversions.\n"
   ]
  }
 ],
 "metadata": {
  "kernelspec": {
   "display_name": "Python 3 (ipykernel)",
   "language": "python",
   "name": "python3"
  },
  "language_info": {
   "codemirror_mode": {
    "name": "ipython",
    "version": 3
   },
   "file_extension": ".py",
   "mimetype": "text/x-python",
   "name": "python",
   "nbconvert_exporter": "python",
   "pygments_lexer": "ipython3",
   "version": "3.12.4"
  }
 },
 "nbformat": 4,
 "nbformat_minor": 5
}
